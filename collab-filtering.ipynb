{
 "cells": [
  {
   "cell_type": "code",
   "execution_count": 4,
   "metadata": {},
   "outputs": [],
   "source": [
    "import pandas as pd\n",
    "import numpy as np\n",
    "from zipfile import ZipFile\n",
    "import tensorflow as tf\n",
    "from tensorflow import keras\n",
    "from tensorflow.keras import layers\n",
    "from pathlib import Path\n",
    "import matplotlib.pyplot as plt"
   ]
  },
  {
   "cell_type": "code",
   "execution_count": 5,
   "metadata": {},
   "outputs": [],
   "source": [
    "raw_recipes = pd.read_csv(\"RAW_recipes.csv\")\n",
    "raw_interactions = pd.read_csv(\"RAW_interactions.csv\")\n",
    "#pp_recipes = pd.read_csv(\"data/PP_recipes.csv\")\n",
    "#pp_users = pd.read_csv(\"data/PP_users.csv\")\n",
    "#ingr_map = pd.read_pickle(\"data/ingr_map.pkl\")"
   ]
  },
  {
   "cell_type": "code",
   "execution_count": 12,
   "metadata": {},
   "outputs": [
    {
     "data": {
      "text/plain": [
       "Index(['user_id', 'recipe_id', 'rating'], dtype='object')"
      ]
     },
     "execution_count": 12,
     "metadata": {},
     "output_type": "execute_result"
    }
   ],
   "source": [
    "ratings = raw_interactions[[\"user_id\", \"recipe_id\", \"rating\"]]\n",
    "ratings.columns"
   ]
  },
  {
   "cell_type": "code",
   "execution_count": 8,
   "metadata": {},
   "outputs": [],
   "source": [
    "dishes = raw_recipes[[\"id\", \"name\"]]"
   ]
  },
  {
   "cell_type": "code",
   "execution_count": 10,
   "metadata": {},
   "outputs": [
    {
     "data": {
      "text/plain": [
       "Index(['id', 'name'], dtype='object')"
      ]
     },
     "execution_count": 10,
     "metadata": {},
     "output_type": "execute_result"
    }
   ],
   "source": [
    "dishes.columns"
   ]
  },
  {
   "cell_type": "code",
   "execution_count": 15,
   "metadata": {},
   "outputs": [
    {
     "name": "stdout",
     "output_type": "stream",
     "text": [
      "<class 'pandas.core.frame.DataFrame'>\n",
      "RangeIndex: 1132367 entries, 0 to 1132366\n",
      "Data columns (total 5 columns):\n",
      " #   Column     Non-Null Count    Dtype \n",
      "---  ------     --------------    ----- \n",
      " 0   id         1132367 non-null  int64 \n",
      " 1   name       1132366 non-null  object\n",
      " 2   user_id    1132367 non-null  int64 \n",
      " 3   recipe_id  1132367 non-null  int64 \n",
      " 4   rating     1132367 non-null  int64 \n",
      "dtypes: int64(4), object(1)\n",
      "memory usage: 43.2+ MB\n"
     ]
    }
   ],
   "source": [
    "df = pd.merge(dishes, ratings, left_on='id', right_on='recipe_id')\n",
    "df.info()\n"
   ]
  },
  {
   "cell_type": "code",
   "execution_count": 5,
   "metadata": {},
   "outputs": [],
   "source": [
    "df = pd.merge(ratings, dishes, on='recipe_id', how='inner')"
   ]
  },
  {
   "cell_type": "code",
   "execution_count": 61,
   "metadata": {},
   "outputs": [
    {
     "name": "stdout",
     "output_type": "stream",
     "text": [
      "<class 'pandas.core.frame.DataFrame'>\n",
      "Int64Index: 1132367 entries, 493409 to 396683\n",
      "Data columns (total 6 columns):\n",
      " #   Column     Non-Null Count    Dtype  \n",
      "---  ------     --------------    -----  \n",
      " 0   user_id    1132367 non-null  int64  \n",
      " 1   recipe_id  1132367 non-null  int64  \n",
      " 2   rating     1132367 non-null  float32\n",
      " 3   name       1132366 non-null  object \n",
      " 4   user       1132367 non-null  int64  \n",
      " 5   recipe     1132367 non-null  int64  \n",
      "dtypes: float32(1), int64(4), object(1)\n",
      "memory usage: 56.2+ MB\n"
     ]
    }
   ],
   "source": [
    "df.info()"
   ]
  },
  {
   "cell_type": "code",
   "execution_count": 16,
   "metadata": {},
   "outputs": [
    {
     "name": "stdout",
     "output_type": "stream",
     "text": [
      "Number of users: 226570, Number of Recipes: 231637, Min rating: 0.0, Max rating: 5.0\n"
     ]
    }
   ],
   "source": [
    "user_ids = df[\"user_id\"].unique().tolist()\n",
    "user2user_encoded = {x: i for i, x in enumerate(user_ids)}\n",
    "userencoded2user = {i: x for i, x in enumerate(user_ids)}\n",
    "recipe_ids = df[\"recipe_id\"].unique().tolist()\n",
    "recipe2recipe_encoded = {x: i for i, x in enumerate(recipe_ids)}\n",
    "recipe_encoded2recipe = {i: x for i, x in enumerate(recipe_ids)}\n",
    "df[\"user\"] = df[\"user_id\"].map(user2user_encoded)\n",
    "df[\"recipe\"] = df[\"recipe_id\"].map(recipe2recipe_encoded)\n",
    "\n",
    "num_users = len(user2user_encoded)\n",
    "num_recipes = len(recipe_encoded2recipe)\n",
    "df[\"rating\"] = df[\"rating\"].values.astype(np.float32)\n",
    "# min and max ratings will be used to normalize the ratings later\n",
    "min_rating = min(df[\"rating\"])\n",
    "max_rating = max(df[\"rating\"])\n",
    "\n",
    "print(\n",
    "    \"Number of users: {}, Number of Recipes: {}, Min rating: {}, Max rating: {}\".format(\n",
    "        num_users, num_recipes, min_rating, max_rating\n",
    "    )\n",
    ")"
   ]
  },
  {
   "cell_type": "code",
   "execution_count": 17,
   "metadata": {},
   "outputs": [],
   "source": [
    "df = df.sample(frac=1, random_state=42)\n",
    "x = df[[\"user\", \"recipe\"]].values\n",
    "# Normalize the targets between 0 and 1. Makes it easy to train.\n",
    "y = df[\"rating\"].apply(lambda x: (x - min_rating) / (max_rating - min_rating)).values\n",
    "# Assuming training on 90% of the data and validating on 10%.\n",
    "train_indices = int(0.9 * df.shape[0])\n",
    "x_train, x_val, y_train, y_val = (\n",
    "    x[:train_indices],\n",
    "    x[train_indices:],\n",
    "    y[:train_indices],\n",
    "    y[train_indices:],\n",
    ")"
   ]
  },
  {
   "cell_type": "code",
   "execution_count": 22,
   "metadata": {},
   "outputs": [],
   "source": [
    "EMBEDDING_SIZE = 50\n",
    "\n",
    "\n",
    "class RecommenderNet(keras.Model):\n",
    "    def __init__(self, num_users, num_recipes, embedding_size, **kwargs):\n",
    "        super().__init__(**kwargs)\n",
    "        self.num_users = num_users\n",
    "        self.num_recipes = num_recipes\n",
    "        self.embedding_size = embedding_size\n",
    "        self.user_embedding = layers.Embedding(\n",
    "            num_users,\n",
    "            embedding_size,\n",
    "            embeddings_initializer=\"he_normal\",\n",
    "            embeddings_regularizer=keras.regularizers.l2(1e-6),\n",
    "        )\n",
    "        self.user_bias = layers.Embedding(num_users, 1)\n",
    "        self.recipe_embedding = layers.Embedding(\n",
    "            num_recipes,\n",
    "            embedding_size,\n",
    "            embeddings_initializer=\"he_normal\",\n",
    "            embeddings_regularizer=keras.regularizers.l2(1e-6),\n",
    "        )\n",
    "        self.recipe_bias = layers.Embedding(num_recipes, 1)\n",
    "\n",
    "    def call(self, inputs):\n",
    "        user_vector = self.user_embedding(inputs[:, 0])\n",
    "        user_bias = self.user_bias(inputs[:, 0])\n",
    "        recipe_vector = self.recipe_embedding(inputs[:, 1])\n",
    "        recipe_bias = self.recipe_bias(inputs[:, 1])\n",
    "        dot_user_recipe = tf.tensordot(user_vector, recipe_vector, 2)\n",
    "        # Add all the components (including bias)\n",
    "        x = dot_user_recipe + user_bias + recipe_bias\n",
    "        # The sigmoid activation forces the rating to between 0 and 1\n",
    "        return tf.nn.sigmoid(x)\n",
    "\n",
    "\n",
    "model = RecommenderNet(num_users, num_recipes, EMBEDDING_SIZE)\n",
    "model.compile(\n",
    "    loss=tf.keras.losses.BinaryCrossentropy(),\n",
    "    optimizer=keras.optimizers.Adam(learning_rate=0.001),\n",
    ")"
   ]
  },
  {
   "cell_type": "code",
   "execution_count": 23,
   "metadata": {},
   "outputs": [
    {
     "name": "stdout",
     "output_type": "stream",
     "text": [
      "Epoch 1/15\n",
      "102/102 [==============================] - 30s 277ms/step - loss: 0.4898 - val_loss: 0.3644\n",
      "Epoch 2/15\n",
      "102/102 [==============================] - 27s 268ms/step - loss: 0.4500 - val_loss: 0.6310\n",
      "Epoch 3/15\n",
      "102/102 [==============================] - 27s 267ms/step - loss: 0.4279 - val_loss: 0.6049\n",
      "Epoch 4/15\n",
      "102/102 [==============================] - 27s 269ms/step - loss: 0.3863 - val_loss: 0.5182\n",
      "Epoch 5/15\n",
      "102/102 [==============================] - 28s 271ms/step - loss: 0.4112 - val_loss: 0.7341\n",
      "Epoch 6/15\n",
      "102/102 [==============================] - 28s 273ms/step - loss: 4.5440 - val_loss: 0.7633\n",
      "Epoch 7/15\n",
      "102/102 [==============================] - 28s 270ms/step - loss: 6.8929 - val_loss: 0.6354\n",
      "Epoch 8/15\n",
      "102/102 [==============================] - 28s 270ms/step - loss: 4.8455 - val_loss: 0.4281\n",
      "Epoch 9/15\n",
      "102/102 [==============================] - 27s 268ms/step - loss: 3.2221 - val_loss: 0.6485\n",
      "Epoch 10/15\n",
      "102/102 [==============================] - 27s 269ms/step - loss: 15.6971 - val_loss: 3.3991\n",
      "Epoch 11/15\n",
      "102/102 [==============================] - 28s 273ms/step - loss: 13.4802 - val_loss: 0.8779\n",
      "Epoch 12/15\n",
      "102/102 [==============================] - 27s 269ms/step - loss: 3.3438 - val_loss: 0.4618\n",
      "Epoch 13/15\n",
      "102/102 [==============================] - 33s 327ms/step - loss: 6.3809 - val_loss: 1.3733\n",
      "Epoch 14/15\n",
      "102/102 [==============================] - 42s 414ms/step - loss: 6.5251 - val_loss: 0.5152\n",
      "Epoch 15/15\n",
      "102/102 [==============================] - 39s 385ms/step - loss: 2.0623 - val_loss: 1.3173\n"
     ]
    }
   ],
   "source": [
    "history = model.fit(\n",
    "    x=x_train,\n",
    "    y=y_train,\n",
    "    batch_size=10000,\n",
    "    epochs=15,\n",
    "    verbose=1,\n",
    "    validation_data=(x_val, y_val),\n",
    ")"
   ]
  },
  {
   "cell_type": "code",
   "execution_count": 24,
   "metadata": {},
   "outputs": [
    {
     "data": {
      "image/png": "[encoded data removed]",
      "text/plain": [
       "<Figure size 640x480 with 1 Axes>"
      ]
     },
     "metadata": {},
     "output_type": "display_data"
    }
   ],
   "source": [
    "plt.plot(history.history[\"loss\"])\n",
    "plt.plot(history.history[\"val_loss\"])\n",
    "plt.title(\"model loss\")\n",
    "plt.ylabel(\"loss\")\n",
    "plt.xlabel(\"epoch\")\n",
    "plt.legend([\"train\", \"test\"], loc=\"upper left\")\n",
    "plt.show()"
   ]
  },
  {
   "cell_type": "code",
   "execution_count": 35,
   "metadata": {},
   "outputs": [],
   "source": [
    "user_id = df.user_id.sample(1).iloc[0]\n",
    "recipes_made_by_user = df[df.user_id == user_id]\n",
    "recipes_not_made = df[\n",
    "    ~df[\"recipe_id\"].isin(recipes_made_by_user.recipe_id.values)\n",
    "][\"recipe_id\"]"
   ]
  },
  {
   "cell_type": "code",
   "execution_count": 26,
   "metadata": {},
   "outputs": [
    {
     "ename": "TypeError",
     "evalue": "'tuple' object is not callable",
     "output_type": "error",
     "traceback": [
      "\u001b[1;31m---------------------------------------------------------------------------\u001b[0m",
      "\u001b[1;31mTypeError\u001b[0m                                 Traceback (most recent call last)",
      "Cell \u001b[1;32mIn[26], line 1\u001b[0m\n\u001b[1;32m----> 1\u001b[0m \u001b[43mrecipes_not_made\u001b[49m\u001b[38;5;241;43m.\u001b[39;49m\u001b[43mshape\u001b[49m\u001b[43m(\u001b[49m\u001b[43m)\u001b[49m\n",
      "\u001b[1;31mTypeError\u001b[0m: 'tuple' object is not callable"
     ]
    }
   ],
   "source": [
    "recipes_not_made.shape()"
   ]
  },
  {
   "cell_type": "code",
   "execution_count": 28,
   "metadata": {},
   "outputs": [],
   "source": [
    "pp_recipes = pd.read_csv(\"PP_recipes.csv\")"
   ]
  },
  {
   "cell_type": "code",
   "execution_count": 36,
   "metadata": {},
   "outputs": [],
   "source": [
    "recipes_not_made = pp_recipes[\n",
    "    ~pp_recipes[\"id\"].isin(recipes_made_by_user.recipe_id.values)\n",
    "][\"id\"]"
   ]
  },
  {
   "cell_type": "code",
   "execution_count": 37,
   "metadata": {},
   "outputs": [
    {
     "name": "stdout",
     "output_type": "stream",
     "text": [
      "5569/5569 [==============================] - 14s 3ms/step\n"
     ]
    }
   ],
   "source": [
    "recipes_not_made = list(\n",
    "    set(recipes_not_made).intersection(set(recipe2recipe_encoded.keys()))\n",
    ")\n",
    "recipes_not_made = [[recipe2recipe_encoded.get(x)] for x in recipes_not_made]\n",
    "user_encoder = user2user_encoded.get(user_id)\n",
    "user_recipe_array = np.hstack(\n",
    "    ([[user_encoder]] * len(recipes_not_made), recipes_not_made)\n",
    ")\n",
    "ratings = model.predict(user_recipe_array).flatten()\n",
    "top_ratings_indices = ratings.argsort()[-10:][::-1]\n",
    "recommended_recipe_ids = [\n",
    "    recipe_encoded2recipe.get(recipes_not_made[x][0]) for x in top_ratings_indices\n",
    "]"
   ]
  },
  {
   "cell_type": "code",
   "execution_count": 38,
   "metadata": {},
   "outputs": [
    {
     "name": "stdout",
     "output_type": "stream",
     "text": [
      "Showing recommendations for user: 91340\n",
      "====================================\n",
      "Recipes with high ratings from user\n",
      "--------------------------------\n",
      "papaya and mango with mango cream\n",
      "apple enchiladas\n",
      "apple enchiladas\n",
      "apple enchiladas\n",
      "apple enchiladas\n",
      "apple enchiladas\n",
      "apple enchiladas\n",
      "--------------------------------\n",
      "Top 10 recipe recommendations\n",
      "--------------------------------\n",
      "crumb topped banana muffins\n",
      "kittencal s italian melt in your mouth meatballs\n",
      "brown sugar bundt cake\n",
      "kittencal s italian melt in your mouth meatballs\n",
      "so it s bekah s pulled pork now\n",
      "my chicken parmigiana\n",
      "kittencal s italian melt in your mouth meatballs\n",
      "kittencal s easy and delicious ranch parmesan chicken\n",
      "kittencal s italian melt in your mouth meatballs\n",
      "brown sugar bundt cake\n",
      "kittencal s italian melt in your mouth meatballs\n"
     ]
    }
   ],
   "source": [
    "print(\"Showing recommendations for user: {}\".format(user_id))\n",
    "print(\"====\" * 9)\n",
    "print(\"Recipes with high ratings from user\")\n",
    "print(\"----\" * 8)\n",
    "top_recipes_user = (\n",
    "    recipes_made_by_user.sort_values(by=\"rating\", ascending=False)\n",
    "    .head(5)\n",
    "    .recipe_id.values\n",
    ")\n",
    "recipe_df_rows = df[df[\"recipe_id\"].isin(top_recipes_user)]\n",
    "i=0\n",
    "for row in recipe_df_rows.itertuples():\n",
    "    if i>6:\n",
    "        break\n",
    "    print(row.name)\n",
    "    i=i+1\n",
    "\n",
    "print(\"----\" * 8)\n",
    "print(\"Top 10 recipe recommendations\")\n",
    "print(\"----\" * 8)\n",
    "recommended_recipes = df[df[\"recipe_id\"].isin(recommended_recipe_ids)]\n",
    "i=0\n",
    "for row in recommended_recipes.itertuples():\n",
    "    if i>10:\n",
    "        break\n",
    "    print(row.name)\n",
    "    i=i+1"
   ]
  },
  {
   "cell_type": "code",
   "execution_count": null,
   "metadata": {},
   "outputs": [],
   "source": []
  }
 ],
 "metadata": {
  "kernelspec": {
   "display_name": "Python 3 (ipykernel)",
   "language": "python",
   "name": "python3"
  },
  "language_info": {
   "codemirror_mode": {
    "name": "ipython",
    "version": 3
   },
   "file_extension": ".py",
   "mimetype": "text/x-python",
   "name": "python",
   "nbconvert_exporter": "python",
   "pygments_lexer": "ipython3",
   "version": "3.9.16"
  },
  "vscode": {
   "interpreter": {
    "hash": "3623b36ca390ac242778c5e368ec0897728d0ddc5668cbf63f8d63ee9ada5548"
   }
  }
 },
 "nbformat": 4,
 "nbformat_minor": 2
}
